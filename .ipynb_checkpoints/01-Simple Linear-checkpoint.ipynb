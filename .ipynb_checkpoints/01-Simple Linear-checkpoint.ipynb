{
 "cells": [
  {
   "cell_type": "code",
   "execution_count": 11,
   "metadata": {},
   "outputs": [
    {
     "name": "stdout",
     "output_type": "stream",
     "text": [
      "[80.71051956] \n",
      " [-7.10542736e-15]\n",
      "[2.61437625e-25]\n"
     ]
    }
   ],
   "source": [
    "#Hard Code\n",
    "from sklearn.datasets import make_regression\n",
    "X,y=make_regression(n_samples=100,n_features=1,n_informative=2,random_state=1)\n",
    "n=len(X)\n",
    "sumx = 0\n",
    "sumy = 0\n",
    "for i in X:\n",
    "    sumx+=i\n",
    "for i in y:\n",
    "    sumy+=i\n",
    "meanx= sumx/n\n",
    "meany= sumy/n\n",
    "Numer=0\n",
    "Denom=0\n",
    "for i in range (n):\n",
    "    Numer+= (X[i]-meanx)*(y[i]-meany)\n",
    "    Denom+= (X[i]-meanx)**2\n",
    "b=Numer/Denom\n",
    "a=meany-(b*meanx)\n",
    "print(b,\"\\n\",a)\n",
    "SSE=0 #Sum of Squared Error\n",
    "for i in range (n):\n",
    "    predy = b*X[i]+a\n",
    "#     print(y,predy)\n",
    "    SSE+=(y[i]-predy)**2\n",
    "print(SSE)"
   ]
  },
  {
   "cell_type": "code",
   "execution_count": 12,
   "metadata": {},
   "outputs": [
    {
     "name": "stdout",
     "output_type": "stream",
     "text": [
      "5.329070518200751e-15\n",
      "[80.71051956]\n",
      "1.5632269843466533e-25\n"
     ]
    }
   ],
   "source": [
    "#sklearn\n",
    "from sklearn import linear_model\n",
    "from sklearn.metrics import confusion_matrix\n",
    "from sklearn.model_selection import train_test_split\n",
    "# Xtrain,Xtest,Ytrain,Ytest=train_test_split(X,y,test_size=0.2)\n",
    "Regr=linear_model.LinearRegression()\n",
    "Regr.fit(X,y)\n",
    "print(Regr.intercept_)\n",
    "print(Regr.coef_)\n",
    "Ypred= Regr.predict(X)\n",
    "SSE=0 #Sum of Squared Error\n",
    "for i in range (len(X)):\n",
    "    SSE+=(y[i]-Ypred[i])**2\n",
    "print(SSE)"
   ]
  }
 ],
 "metadata": {
  "kernelspec": {
   "display_name": "Python 3",
   "language": "python",
   "name": "python3"
  },
  "language_info": {
   "codemirror_mode": {
    "name": "ipython",
    "version": 3
   },
   "file_extension": ".py",
   "mimetype": "text/x-python",
   "name": "python",
   "nbconvert_exporter": "python",
   "pygments_lexer": "ipython3",
   "version": "3.7.6"
  }
 },
 "nbformat": 4,
 "nbformat_minor": 4
}
