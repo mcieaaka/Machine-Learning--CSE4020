{
 "cells": [
  {
   "cell_type": "code",
   "execution_count": 2,
   "metadata": {},
   "outputs": [
    {
     "name": "stdout",
     "output_type": "stream",
     "text": [
      "[ -16.51893645  -20.51127805   47.59050267   73.6175035   -53.61282717\n",
      "  -30.63779603   13.86882573   24.03448255  -23.90723802   37.07020501\n",
      "  -17.08483044 -111.11304348   28.8996147   -37.12326469  -50.43280717\n",
      "   -4.63744085  -32.91512595   34.80976028   92.70616496   12.2016361 ]\n",
      "1.402855013581682e-25\n"
     ]
    }
   ],
   "source": [
    "from sklearn.preprocessing import PolynomialFeatures\n",
    "from sklearn.linear_model import LinearRegression\n",
    "from sklearn.model_selection import train_test_split\n",
    "from sklearn.datasets import make_regression\n",
    "from sklearn.metrics import confusion_matrix\n",
    "x,y = make_regression(n_samples=100,n_features=4,n_informative=2,random_state=1)\n",
    "\n",
    "Xtrain,Xtest,Ytrain,Ytest=train_test_split(x,y,test_size=0.2)\n",
    "poly= PolynomialFeatures(degree=3,interaction_only=True)\n",
    "Xt=poly.fit_transform(Xtrain)\n",
    "\n",
    "model = LinearRegression()\n",
    "model.fit(Xt,Ytrain)\n",
    "\n",
    "transformed_testx= poly.fit_transform(Xtest)\n",
    "Yt = model.predict(transformed_testx)\n",
    "print(Yt)\n",
    "SSE=0\n",
    "for i in range (len(Xtest)):\n",
    "    SSE+=(Yt[i]-Ytest[i])**2\n",
    "print(SSE) #sum of squared error"
   ]
  },
  {
   "cell_type": "code",
   "execution_count": null,
   "metadata": {},
   "outputs": [],
   "source": [
    "# import numpy as np\n",
    "# from sklearn.preprocessing import PolynomialFeatures\n",
    "# from sklearn.linear_model import LinearRegression\n",
    "# import matplotlib.pyplot as myplot\n",
    "# x=np.linspace(5,25,9).reshape(-1,1)\n",
    "# y=np.array([5,6,7,10,12,15,18,19,20])\n",
    "# poly=PolynomialFeatures(degree=3)\n",
    "# X=poly.fit_transform(x)\n",
    "# model=LinearRegression()\n",
    "# model.fit(X,y)\n",
    "# testx=np.array([8.5,12.4,21.7,23.6]).reshape(-1,1)\n",
    "# transformed_testx=poly.fit_transform(testx)\n",
    "# testy=model.predict(transformed_testx)\n",
    "# print(x)\n",
    "# print(X)\n",
    "# print(model.predict(X))\n",
    "# print(testy)\n",
    "# myplot.scatter(x,y,color=\"blue\")\n",
    "# myplot.plot(x,model.predict(X),color=\"green\")\n",
    "# myplot.scatter(testx,testy,color=\"red\")"
   ]
  }
 ],
 "metadata": {
  "kernelspec": {
   "display_name": "Python 3",
   "language": "python",
   "name": "python3"
  },
  "language_info": {
   "codemirror_mode": {
    "name": "ipython",
    "version": 3
   },
   "file_extension": ".py",
   "mimetype": "text/x-python",
   "name": "python",
   "nbconvert_exporter": "python",
   "pygments_lexer": "ipython3",
   "version": "3.7.6"
  }
 },
 "nbformat": 4,
 "nbformat_minor": 4
}
