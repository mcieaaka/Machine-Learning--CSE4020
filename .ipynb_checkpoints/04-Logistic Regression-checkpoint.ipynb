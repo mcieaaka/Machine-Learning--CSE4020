{
 "cells": [
  {
   "cell_type": "code",
   "execution_count": 5,
   "metadata": {},
   "outputs": [],
   "source": [
    "from sklearn.model_selection import train_test_split\n",
    "from sklearn.datasets import make_classification\n",
    "from sklearn.metrics import confusion_matrix\n",
    "from sklearn.linear_model import LogisticRegression\n",
    "X,y = make_classification(n_samples=10000,n_features=5,n_informative=2,n_redundant=1,random_state=1)"
   ]
  },
  {
   "cell_type": "code",
   "execution_count": 14,
   "metadata": {},
   "outputs": [],
   "source": [
    "Xtrain,Xtest,Ytrain,Ytest=train_test_split(X,y,test_size=0.2)\n",
    "logreg = LogisticRegression(C=1.5,solver=\"lbfgs\")\n",
    "logreg.fit(Xtrain,Ytrain)\n",
    "Ypred = logreg.predict(Xtest)\n",
    "cf = confusion_matrix(Ytest,Ypred)"
   ]
  },
  {
   "cell_type": "code",
   "execution_count": 15,
   "metadata": {},
   "outputs": [
    {
     "name": "stdout",
     "output_type": "stream",
     "text": [
      "[[879 107]\n",
      " [137 877]]\n",
      "87.8\n"
     ]
    }
   ],
   "source": [
    "print(cf)\n",
    "accuracy = (cf[0][0]+cf[1][1])/(cf[0][0]+cf[0][1]+cf[1][0]+cf[1][1])\n",
    "print(accuracy*100)"
   ]
  },
  {
   "cell_type": "code",
   "execution_count": null,
   "metadata": {},
   "outputs": [],
   "source": [
    "# x = np.array([100,120,150,170,200,200,202,203,205,210,215,250,270,300,305,310])\n",
    "# y = np.array([1,1,1,1,1,1,1,0,1,0,0,0,0,0,0,0])\n",
    "# from sklearn.linear_model import LogisticRegression\n",
    "# logreg=LogisticRegression(C=1.5,solver='lbfgs',multi_class='ovr')\n",
    "# X=x.reshape(-1,1)\n",
    "# logreg.fit(X,y)\n",
    "# logreg.predict(X)\n",
    "# print(logreg.predict_proba([[100]]))\n",
    "# print(logreg.predict([[100]]))\n",
    "# print(logreg.predict_proba([[300]]))\n",
    "# print(logreg.predict([[300]]))\n",
    "# myX=np.arange(180,230,0.5)\n",
    "# probabilities=[]\n",
    "# for i in myX:\n",
    "#      ploss,pwin=logreg.predict_proba([[i]])[0]\n",
    "#      probabilities.append(pwin)\n",
    "# myplot.scatter(myX,probabilities)\n",
    "# myplot.scatter(x,y)"
   ]
  }
 ],
 "metadata": {
  "kernelspec": {
   "display_name": "Python 3",
   "language": "python",
   "name": "python3"
  },
  "language_info": {
   "codemirror_mode": {
    "name": "ipython",
    "version": 3
   },
   "file_extension": ".py",
   "mimetype": "text/x-python",
   "name": "python",
   "nbconvert_exporter": "python",
   "pygments_lexer": "ipython3",
   "version": "3.7.6"
  }
 },
 "nbformat": 4,
 "nbformat_minor": 4
}
