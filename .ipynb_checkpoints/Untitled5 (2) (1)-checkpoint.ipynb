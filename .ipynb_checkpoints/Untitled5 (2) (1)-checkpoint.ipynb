{
 "cells": [
  {
   "cell_type": "code",
   "execution_count": 30,
   "metadata": {
    "id": "bLtLUopfc0Jg"
   },
   "outputs": [],
   "source": []
  },
  {
   "cell_type": "code",
   "execution_count": 30,
   "metadata": {
    "id": "jgCQCTkCdQS9"
   },
   "outputs": [],
   "source": [
    "\n"
   ]
  },
  {
   "cell_type": "code",
   "execution_count": 30,
   "metadata": {
    "id": "d2iXi_1Ig-Hf"
   },
   "outputs": [],
   "source": []
  },
  {
   "cell_type": "code",
   "execution_count": 17,
   "metadata": {
    "colab": {
     "base_uri": "https://localhost:8080/"
    },
    "id": "zaha4PCdoQ-8",
    "outputId": "ceaabc65-7bac-4362-9277-57559c105343"
   },
   "outputs": [
    {
     "name": "stdout",
     "output_type": "stream",
     "text": [
      "b= 0.7 a= 11.9\n",
      "actual y  12 predicted y  12.6\n",
      "actual y  15 predicted y  13.3\n",
      "actual y  13 predicted y  14.0\n",
      "actual y  14 predicted y  14.7\n",
      "actual y  16 predicted y  15.4\n",
      "5.099999999999995\n"
     ]
    }
   ],
   "source": [
    "x=[1,2,3,4,5]\n",
    "y=[12,15,13,14,16]\n",
    "n=len(x)\n",
    "sumx=0\n",
    "sumy=0\n",
    "for i in x:\n",
    "  sumx+=i\n",
    "for i in y:\n",
    "  sumy+=i\n",
    "meanx=sumx/n\n",
    "meany=sumy/n\n",
    "numer=0\n",
    "denom=0\n",
    "for i in range(n):\n",
    "  numer+=(x[i]-meanx)*(y[i]-meany)\n",
    "  denom+=(x[i]-meanx)**2\n",
    "b=numer/denom\n",
    "a=meany-b*meanx\n",
    "print(\"b=\",b,\"a=\",a)\n",
    "ss=0\n",
    "for i in range(n):\n",
    "  predy=b*x[i]+a \n",
    "  print(\"actual y \",y[i],\"predicted y \",predy)\n",
    "  ss+=(y[i]-predy)**2\n",
    "print(ss)\n"
   ]
  },
  {
   "cell_type": "code",
   "execution_count": 25,
   "metadata": {
    "colab": {
     "base_uri": "https://localhost:8080/"
    },
    "id": "u3f37D23YY78",
    "outputId": "ba686365-542e-4b0e-bbbc-5d8c16d2d012"
   },
   "outputs": [
    {
     "name": "stdout",
     "output_type": "stream",
     "text": [
      "output\n",
      "[1422.86238865 1336.47736689 1336.47736689 1336.47736689 1311.46270976\n",
      " 1261.43339548 1286.44805262 1200.06303087 1200.06303087 1175.04837373\n",
      " 1063.64869484 1013.61938057  988.60472343  927.23435881  952.24901595\n",
      "  877.20504454  852.1903874   877.20504454  877.20504454  877.20504454\n",
      "  927.23435881  852.1903874   852.1903874   877.20504454]\n"
     ]
    }
   ],
   "source": [
    "import numpy as np\n",
    "from numpy.linalg import inv\n",
    "a= [2.75,2.5,2.5,2.5,2.5,2.5,2.5,2.25,2.25,2.25,2,2,2,1.75,1.75,1.75,1.75,1.75,1.75,1.75,1.75,1.75,1.75,1.75]\n",
    "b= [5.3,5.3,5.3,5.3,5.4,5.6,5.5,5.5,5.5,5.6,5.7,5.9,6,5.9,5.8,6.1,6.2,6.1,6.1,6.1,5.9,6.2,6.2,6.1]\n",
    "c= [1464,1394,1357,1293,1256,1254,1234,1195,1159,1167,1130,1075,1047,965,943,958,971,949,884,866,876,822,704,719]        \n",
    "X=[]\n",
    "for i in range(len(a)):   # [[1,2,3],[4,5,6],[]]\n",
    "   X.append([])\n",
    "   X[i].append(1)   #b0+b1x1+b2x2\n",
    "   X[i].append(a[i])\n",
    "   X[i].append(b[i])    # [[1 2.75 5.3],[1, 2.5,5.3]]\n",
    "#print(X)\n",
    "matx=np.array(X)\n",
    "#print(matx)\n",
    "temp=inv((matx.T).dot(matx))\n",
    "temp2=temp.dot(matx.T)\n",
    "#print(temp2)\n",
    "beta=temp2.dot(np.array(c))\n",
    "#print(beta)\n",
    "print(\"output\")\n",
    "print(matx.dot(beta))\n",
    "\n"
   ]
  },
  {
   "cell_type": "code",
   "execution_count": 30,
   "metadata": {
    "colab": {
     "base_uri": "https://localhost:8080/"
    },
    "id": "nT3XhQ_OaUPm",
    "outputId": "3dafe41b-c64d-43df-d4ad-87b3884946f5"
   },
   "outputs": [
    {
     "name": "stdout",
     "output_type": "stream",
     "text": [
      "1798.4039776258546\n",
      "[ 345.54008701 -250.14657137]\n",
      "[1172.71581728]\n"
     ]
    }
   ],
   "source": [
    "from  pandas import DataFrame\n",
    "from sklearn import linear_model\n",
    "d1={'y': [2017,2017,2017,2017,2017,2017,2017,2017,2017,2017,2017,2017,2016,2016,2016,2016,2016,2016,2016,2016,2016,2016,2016,2016],\n",
    "                'm': [12, 11,10,9,8,7,6,5,4,3,2,1,12,11,10,9,8,7,6,5,4,3,2,1],\n",
    "                'interest': [2.75,2.5,2.5,2.5,2.5,2.5,2.5,2.25,2.25,2.25,2,2,2,1.75,1.75,1.75,1.75,1.75,1.75,1.75,1.75,1.75,1.75,1.75],\n",
    "                'unemp': [5.3,5.3,5.3,5.3,5.4,5.6,5.5,5.5,5.5,5.6,5.7,5.9,6,5.9,5.8,6.1,6.2,6.1,6.1,6.1,5.9,6.2,6.2,6.1],\n",
    "                'output': [1464,1394,1357,1293,1256,1254,1234,1195,1159,1167,1130,1075,1047,965,943,958,971,949,884,866,876,822,704,719]        \n",
    "                }\n",
    "df=DataFrame(d1,columns=['y','m','interest','unemp','output'])\n",
    "X=df[['interest','unemp']]   # pass a 2-D list\n",
    "y=df['output']\n",
    "regr=linear_model.LinearRegression()\n",
    "regr.fit(X.values,y)\n",
    "print(regr.intercept_)\n",
    "print(regr.coef_)\n",
    "print(regr.predict([[2.75,6.3]]))\n",
    "\n",
    "\n"
   ]
  },
  {
   "cell_type": "code",
   "execution_count": null,
   "metadata": {
    "id": "TuNiy-r5gXWX"
   },
   "outputs": [],
   "source": []
  }
 ],
 "metadata": {
  "colab": {
   "name": "Untitled5.ipynb",
   "provenance": []
  },
  "kernelspec": {
   "display_name": "Python 3",
   "language": "python",
   "name": "python3"
  },
  "language_info": {
   "codemirror_mode": {
    "name": "ipython",
    "version": 3
   },
   "file_extension": ".py",
   "mimetype": "text/x-python",
   "name": "python",
   "nbconvert_exporter": "python",
   "pygments_lexer": "ipython3",
   "version": "3.7.6"
  }
 },
 "nbformat": 4,
 "nbformat_minor": 1
}
