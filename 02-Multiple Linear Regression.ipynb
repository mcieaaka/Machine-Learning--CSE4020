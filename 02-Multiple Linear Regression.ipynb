{
 "cells": [
  {
   "cell_type": "code",
   "execution_count": 6,
   "metadata": {
    "scrolled": false
   },
   "outputs": [
    {
     "name": "stdout",
     "output_type": "stream",
     "text": [
      "2.785004097219609e-26\n"
     ]
    }
   ],
   "source": [
    "#Hard Code\n",
    "from sklearn.datasets import make_regression\n",
    "from numpy.linalg import inv\n",
    "import numpy as np\n",
    "X,y=make_regression(n_samples=100,n_features=3,n_informative=2,random_state=1)\n",
    "for i in range(len(X)):\n",
    "    np.append(X,[])\n",
    "    np.append(X[i],1)\n",
    "\n",
    "matx=np.array(X)\n",
    "#print(matx)\n",
    "temp=inv((matx.T).dot(matx))\n",
    "temp2=temp.dot(matx.T)\n",
    "#print(temp2)\n",
    "beta=temp2.dot(np.array(y))\n",
    "ypred = matx.dot(beta)\n",
    "#SSE\n",
    "SSE=0\n",
    "for i in range (len(y)):\n",
    "    SSE+=(y[i]-ypred[i])**2\n",
    "print(SSE)"
   ]
  },
  {
   "cell_type": "code",
   "execution_count": 7,
   "metadata": {},
   "outputs": [
    {
     "name": "stdout",
     "output_type": "stream",
     "text": [
      "4.652585832085271e-26\n"
     ]
    }
   ],
   "source": [
    "#sklearn\n",
    "from sklearn.datasets import make_regression\n",
    "X,y=make_regression(n_samples=100,n_features=3,n_informative=2,random_state=1)\n",
    "from sklearn import linear_model\n",
    "Regr=linear_model.LinearRegression()\n",
    "Regr.fit(X,y)\n",
    "Ypred= Regr.predict(X)\n",
    "SSE=0 #Sum of Squared Error\n",
    "for i in range (len(X)):\n",
    "    SSE+=(y[i]-Ypred[i])**2\n",
    "print(SSE)"
   ]
  }
 ],
 "metadata": {
  "kernelspec": {
   "display_name": "Python 3",
   "language": "python",
   "name": "python3"
  },
  "language_info": {
   "codemirror_mode": {
    "name": "ipython",
    "version": 3
   },
   "file_extension": ".py",
   "mimetype": "text/x-python",
   "name": "python",
   "nbconvert_exporter": "python",
   "pygments_lexer": "ipython3",
   "version": "3.7.6"
  }
 },
 "nbformat": 4,
 "nbformat_minor": 4
}
