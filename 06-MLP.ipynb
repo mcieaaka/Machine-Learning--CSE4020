{
 "cells": [
  {
   "cell_type": "code",
   "execution_count": 1,
   "metadata": {},
   "outputs": [],
   "source": [
    "from sklearn.model_selection import train_test_split\n",
    "from sklearn.datasets import make_classification\n",
    "from sklearn.metrics import confusion_matrix\n",
    "from tensorflow.keras.models import Sequential\n",
    "from tensorflow.keras.layers import Dense\n",
    "import numpy as np\n",
    "X,y = make_classification(n_samples=10000,n_features=5,n_informative=2,n_redundant=1,random_state=1)"
   ]
  },
  {
   "cell_type": "code",
   "execution_count": 2,
   "metadata": {},
   "outputs": [
    {
     "name": "stdout",
     "output_type": "stream",
     "text": [
      "Epoch 1/10\n",
      "4000/4000 [==============================] - 3s 666us/step - loss: 0.5248 - accuracy: 0.7806\n",
      "Epoch 2/10\n",
      "4000/4000 [==============================] - 3s 638us/step - loss: 0.2811 - accuracy: 0.8998\n",
      "Epoch 3/10\n",
      "4000/4000 [==============================] - 3s 640us/step - loss: 0.2564 - accuracy: 0.9105\n",
      "Epoch 4/10\n",
      "4000/4000 [==============================] - 3s 702us/step - loss: 0.2472 - accuracy: 0.9225\n",
      "Epoch 5/10\n",
      "4000/4000 [==============================] - 3s 644us/step - loss: 0.2387 - accuracy: 0.9326\n",
      "Epoch 6/10\n",
      "4000/4000 [==============================] - 3s 658us/step - loss: 0.2135 - accuracy: 0.9423\n",
      "Epoch 7/10\n",
      "4000/4000 [==============================] - 3s 673us/step - loss: 0.2198 - accuracy: 0.9503\n",
      "Epoch 8/10\n",
      "4000/4000 [==============================] - 3s 690us/step - loss: 0.2117 - accuracy: 0.9491\n",
      "Epoch 9/10\n",
      "4000/4000 [==============================] - 3s 643us/step - loss: 0.1948 - accuracy: 0.9551\n",
      "Epoch 10/10\n",
      "4000/4000 [==============================] - 3s 645us/step - loss: 0.2046 - accuracy: 0.9524\n"
     ]
    },
    {
     "data": {
      "text/plain": [
       "<tensorflow.python.keras.callbacks.History at 0x1e87a301548>"
      ]
     },
     "execution_count": 2,
     "metadata": {},
     "output_type": "execute_result"
    }
   ],
   "source": [
    "Xtrain,Xtest,Ytrain,Ytest=train_test_split(X,y,test_size=0.2)\n",
    "mymodel = Sequential()\n",
    "mymodel.add(Dense(2,activation='relu',input_dim=5))\n",
    "mymodel.add(Dense(1,activation='sigmoid'))\n",
    "mymodel.compile(loss='binary_crossentropy',optimizer='ADAM',metrics=['accuracy'])\n",
    "mymodel.fit(Xtrain,Ytrain,epochs=10,batch_size=2,verbose=1)"
   ]
  },
  {
   "cell_type": "code",
   "execution_count": 10,
   "metadata": {},
   "outputs": [
    {
     "name": "stdout",
     "output_type": "stream",
     "text": [
      "[1 1 0 ... 0 1 1] \n",
      " [[0.00474572]\n",
      " [0.85074353]\n",
      " [0.22117615]\n",
      " ...\n",
      " [0.01113573]\n",
      " [0.8962306 ]\n",
      " [0.8913508 ]] \n",
      " [0. 1. 0. ... 0. 1. 1.]\n",
      "[[963  28]\n",
      " [ 69 940]]\n",
      "95.15\n"
     ]
    }
   ],
   "source": [
    "Ypred = mymodel.predict(Xtest)\n",
    "YpredF=np.zeros(len(Ytest))\n",
    "#0.5 Threshold value\n",
    "for i in range (len(Ytest)):\n",
    "    if(Ypred[i]>=0.5):\n",
    "        YpredF[i]=1\n",
    "    else:\n",
    "        continue\n",
    "print(Ytest,\"\\n\",Ypred,\"\\n\",YpredF)\n",
    "cf = confusion_matrix(Ytest,YpredF)\n",
    "print(cf)\n",
    "accuracy = (cf[0][0]+cf[1][1])/(cf[0][0]+cf[0][1]+cf[1][0]+cf[1][1])\n",
    "print(accuracy*100)"
   ]
  },
  {
   "cell_type": "code",
   "execution_count": null,
   "metadata": {},
   "outputs": [],
   "source": []
  }
 ],
 "metadata": {
  "kernelspec": {
   "display_name": "Python 3",
   "language": "python",
   "name": "python3"
  },
  "language_info": {
   "codemirror_mode": {
    "name": "ipython",
    "version": 3
   },
   "file_extension": ".py",
   "mimetype": "text/x-python",
   "name": "python",
   "nbconvert_exporter": "python",
   "pygments_lexer": "ipython3",
   "version": "3.7.6"
  }
 },
 "nbformat": 4,
 "nbformat_minor": 4
}
