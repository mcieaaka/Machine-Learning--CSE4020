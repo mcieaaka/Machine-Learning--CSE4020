{
 "cells": [
  {
   "cell_type": "code",
   "execution_count": null,
   "metadata": {},
   "outputs": [],
   "source": [
    "import numpy as np\n",
    "import matplotlib.pyplot as plt\n",
    "from sklearn.preprocessing import StandardScaler\n",
    "from sklearn.metrics import classification_report,confusion_matrix\n",
    "from sklearn.model_selection import train_test_split\n",
    "from sklearn.neighbors import KNeighborsClassifier\n",
    "from sklearn import metrics\n",
    "X,y = make_classification(n_samples=50,n_features=3,n_informative=2,n_redundant=1,random_state=1)\n",
    "trainx,testx,trainy,testy=train_test_split(X,y,test_size=0.2,random_state=4,shuffle=True)\n",
    "print(trainx.shape)\n",
    "scaler=StandardScaler()\n",
    "scaler.fit(trainx)\n",
    "trainx=scaler.transform(trainx)\n",
    "testx=scaler.transform(testx)\n",
    "classifier =KNeighborsClassifier(n_neighbors=5)\n",
    "classifier.fit(trainx,trainy)\n",
    "predy=classifier.predict(testx)\n",
    "print(predy)\n",
    "print(testy)\n",
    "print(confusion_matrix(testy,predy))\n",
    "print(classification_report(testy,predy))\n",
    "scores={}\n",
    "scores_list=[]\n",
    "error=[]\n",
    "for i in range(1, 25):\n",
    "    knn = KNeighborsClassifier(n_neighbors=i)\n",
    "    knn.fit(trainx, trainy)\n",
    "    pred_i = knn.predict(testx)\n",
    "   \n",
    "    error.append(np.mean(pred_i != testy))\n",
    "    scores[i]=metrics.accuracy_score(testy,pred_i)\n",
    "    scores_list.append(metrics.accuracy_score(testy,pred_i))\n",
    "plt.plot(range(1,25),scores_list)\n",
    "plt.figure(figsize=(12, 6))\n",
    "plt.plot(range(1, 25), error, color='red')"
   ]
  }
 ],
 "metadata": {
  "kernelspec": {
   "display_name": "Python 3",
   "language": "python",
   "name": "python3"
  },
  "language_info": {
   "codemirror_mode": {
    "name": "ipython",
    "version": 3
   },
   "file_extension": ".py",
   "mimetype": "text/x-python",
   "name": "python",
   "nbconvert_exporter": "python",
   "pygments_lexer": "ipython3",
   "version": "3.7.6"
  }
 },
 "nbformat": 4,
 "nbformat_minor": 4
}
