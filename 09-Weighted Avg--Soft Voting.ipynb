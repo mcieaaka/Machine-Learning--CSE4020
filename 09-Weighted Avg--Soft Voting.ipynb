{
 "cells": [
  {
   "cell_type": "code",
   "execution_count": 3,
   "metadata": {},
   "outputs": [
    {
     "name": "stdout",
     "output_type": "stream",
     "text": [
      "[0.8896969696969697, 0.8696969696969697, 0.8812121212121212]\n",
      "Weighted Avg Accuracy: 90.800\n",
      "              precision    recall  f1-score   support\n",
      "\n",
      "           0       0.91      0.90      0.91      2462\n",
      "           1       0.91      0.91      0.91      2538\n",
      "\n",
      "    accuracy                           0.91      5000\n",
      "   macro avg       0.91      0.91      0.91      5000\n",
      "weighted avg       0.91      0.91      0.91      5000\n",
      "\n",
      "[[2225  237]\n",
      " [ 223 2315]]\n"
     ]
    }
   ],
   "source": [
    "from sklearn.datasets import make_classification\n",
    "from sklearn.model_selection import train_test_split\n",
    "from sklearn.metrics import accuracy_score,classification_report,confusion_matrix\n",
    "from sklearn.linear_model import LogisticRegression\n",
    "from sklearn.tree import DecisionTreeClassifier\n",
    "from sklearn.naive_bayes import GaussianNB\n",
    "from sklearn.ensemble import VotingClassifier\n",
    "\n",
    "\n",
    "def get_models():\n",
    "\tmodels = list()\n",
    "\tmodels.append(('lr', LogisticRegression()))\n",
    "\tmodels.append(('cart', DecisionTreeClassifier()))\n",
    "\tmodels.append(('bayes', GaussianNB()))\n",
    "\treturn models\n",
    "\n",
    "\n",
    "def evaluate_models(models, X_train, X_val, y_train, y_val):\n",
    "\tscores = list()\n",
    "\tfor name, model in models:\n",
    "\t\tmodel.fit(X_train, y_train)\n",
    "\t\tyhat = model.predict(X_val)\n",
    "\t\tacc = accuracy_score(y_val, yhat)\n",
    "\t\tscores.append(acc)\n",
    "\treturn scores\n",
    "\n",
    "X, y = make_classification(n_samples=10000, n_features=20, n_informative=15, n_redundant=5, random_state=7)\n",
    "X_train_full, X_test, y_train_full, y_test = train_test_split(X, y, test_size=0.50, random_state=1)\n",
    "X_train, X_val, y_train, y_val = train_test_split(X_train_full, y_train_full, test_size=0.33, random_state=1)\n",
    "models = get_models()\n",
    "scores = evaluate_models(models, X_train, X_val, y_train, y_val)\n",
    "print(scores)\n",
    "ensemble = VotingClassifier(estimators=models, voting='soft', weights=scores)\n",
    "ensemble.fit(X_train_full, y_train_full)\n",
    "yhat = ensemble.predict(X_test)\n",
    "score = accuracy_score(y_test, yhat)\n",
    "print('Weighted Avg Accuracy: %.3f' % (score*100))\n",
    "print(classification_report(y_test, yhat))\n",
    "print(confusion_matrix(y_test, yhat))"
   ]
  },
  {
   "cell_type": "code",
   "execution_count": null,
   "metadata": {},
   "outputs": [],
   "source": []
  }
 ],
 "metadata": {
  "kernelspec": {
   "display_name": "Python 3",
   "language": "python",
   "name": "python3"
  },
  "language_info": {
   "codemirror_mode": {
    "name": "ipython",
    "version": 3
   },
   "file_extension": ".py",
   "mimetype": "text/x-python",
   "name": "python",
   "nbconvert_exporter": "python",
   "pygments_lexer": "ipython3",
   "version": "3.7.6"
  }
 },
 "nbformat": 4,
 "nbformat_minor": 4
}
