{
 "cells": [
  {
   "cell_type": "code",
   "execution_count": 4,
   "metadata": {},
   "outputs": [],
   "source": [
    "from sklearn.ensemble import StackingClassifier\n",
    "from sklearn.model_selection import train_test_split\n",
    "from sklearn.datasets import make_classification\n",
    "from sklearn.metrics import classification_report,confusion_matrix\n",
    "from sklearn import metrics\n",
    "from sklearn.svm import SVC\n",
    "from sklearn.linear_model import LogisticRegression\n",
    "from sklearn.ensemble import RandomForestClassifier\n",
    "from sklearn.preprocessing import StandardScaler\n",
    "from sklearn.pipeline import make_pipeline"
   ]
  },
  {
   "cell_type": "code",
   "execution_count": 2,
   "metadata": {},
   "outputs": [],
   "source": [
    "X, y = make_classification(n_samples=1000, n_features=4, n_informative=2, n_redundant=0, random_state=0, shuffle=False)\n",
    "Xtrain,Xtest,Ytrain,Ytest=train_test_split(X,y,test_size=0.2)"
   ]
  },
  {
   "cell_type": "code",
   "execution_count": 7,
   "metadata": {},
   "outputs": [],
   "source": [
    "estimators = [\n",
    "     ('rf', RandomForestClassifier(n_estimators=10, random_state=42)),\n",
    "     ('svc', make_pipeline(StandardScaler(), SVC(random_state=42)))\n",
    "]\n",
    "\n",
    "clf = StackingClassifier(estimators=estimators, final_estimator=LogisticRegression())\n",
    "clf.fit(Xtrain, Ytrain).score(Xtest, Ytest)\n",
    "Ypred = clf.predict(Xtest)"
   ]
  },
  {
   "cell_type": "code",
   "execution_count": 8,
   "metadata": {},
   "outputs": [
    {
     "name": "stdout",
     "output_type": "stream",
     "text": [
      "              precision    recall  f1-score   support\n",
      "\n",
      "           0       0.97      0.95      0.96       102\n",
      "           1       0.95      0.97      0.96        98\n",
      "\n",
      "    accuracy                           0.96       200\n",
      "   macro avg       0.96      0.96      0.96       200\n",
      "weighted avg       0.96      0.96      0.96       200\n",
      "\n",
      "[[97  5]\n",
      " [ 3 95]]\n"
     ]
    }
   ],
   "source": [
    "cf = confusion_matrix(Ytest,Ypred)\n",
    "print(classification_report(Ytest,Ypred))\n",
    "print(cf)"
   ]
  },
  {
   "cell_type": "code",
   "execution_count": 9,
   "metadata": {},
   "outputs": [],
   "source": [
    "# >>> from sklearn.datasets import load_iris\n",
    "# >>> from sklearn.ensemble import RandomForestClassifier\n",
    "# >>> from sklearn.svm import LinearSVC\n",
    "# >>> from sklearn.linear_model import LogisticRegression\n",
    "# >>> from sklearn.preprocessing import StandardScaler\n",
    "# >>> from sklearn.pipeline import make_pipeline\n",
    "# >>> from sklearn.ensemble import StackingClassifier\n",
    "# >>> X, y = load_iris(return_X_y=True)\n",
    "# >>> estimators = [\n",
    "# ...     ('rf', RandomForestClassifier(n_estimators=10, random_state=42)),\n",
    "# ...     ('svr', make_pipeline(StandardScaler(),\n",
    "# ...                           LinearSVC(random_state=42)))\n",
    "# ... ]\n",
    "# >>> clf = StackingClassifier(\n",
    "# ...     estimators=estimators, final_estimator=LogisticRegression()\n",
    "# ... )\n",
    "# >>> from sklearn.model_selection import train_test_split\n",
    "# >>> X_train, X_test, y_train, y_test = train_test_split(\n",
    "# ...     X, y, stratify=y, random_state=42\n",
    "# ... )\n",
    "# >>> clf.fit(X_train, y_train).score(X_test, y_test)\n",
    "# 0.9..."
   ]
  }
 ],
 "metadata": {
  "kernelspec": {
   "display_name": "Python 3",
   "language": "python",
   "name": "python3"
  },
  "language_info": {
   "codemirror_mode": {
    "name": "ipython",
    "version": 3
   },
   "file_extension": ".py",
   "mimetype": "text/x-python",
   "name": "python",
   "nbconvert_exporter": "python",
   "pygments_lexer": "ipython3",
   "version": "3.7.6"
  }
 },
 "nbformat": 4,
 "nbformat_minor": 4
}
