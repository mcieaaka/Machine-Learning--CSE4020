{
 "cells": [
  {
   "cell_type": "code",
   "execution_count": 5,
   "metadata": {},
   "outputs": [
    {
     "name": "stdout",
     "output_type": "stream",
     "text": [
      "[ 13.86882573 -21.14358022  59.81280976  60.52485396  -8.49259381\n",
      "  92.12759852  80.56757105   3.38836703   7.83564049 118.2672307\n",
      "   6.84180715 -17.26432776 -39.90551279 -53.89447842  37.07020501\n",
      "  54.84436673 -57.78460254  28.8996147  -44.25809659 -53.61282717]\n",
      "1.9276703687593797e-25\n"
     ]
    }
   ],
   "source": [
    "from sklearn.preprocessing import PolynomialFeatures\n",
    "from sklearn.linear_model import LinearRegression\n",
    "from sklearn.model_selection import train_test_split\n",
    "from sklearn.datasets import make_regression\n",
    "from sklearn.metrics import confusion_matrix\n",
    "x,y = make_regression(n_samples=100,n_features=4,n_informative=2,random_state=1)\n",
    "\n",
    "Xtrain,Xtest,Ytrain,Ytest=train_test_split(x,y,test_size=0.2)\n",
    "poly= PolynomialFeatures(degree=3,interaction_only=True)\n",
    "Xt=poly.fit_transform(Xtrain)\n",
    "\n",
    "model = LinearRegression()\n",
    "model.fit(Xt,Ytrain)\n",
    "\n",
    "transformed_testx= poly.fit_transform(Xtest)\n",
    "Yt = model.predict(transformed_testx)\n",
    "print(Yt)\n",
    "SSE=0\n",
    "for i in range (len(Xtest)):\n",
    "    SSE+=(Yt[i]-Ytest[i])**2\n",
    "print(SSE)"
   ]
  }
 ],
 "metadata": {
  "kernelspec": {
   "display_name": "Python 3",
   "language": "python",
   "name": "python3"
  },
  "language_info": {
   "codemirror_mode": {
    "name": "ipython",
    "version": 3
   },
   "file_extension": ".py",
   "mimetype": "text/x-python",
   "name": "python",
   "nbconvert_exporter": "python",
   "pygments_lexer": "ipython3",
   "version": "3.7.6"
  }
 },
 "nbformat": 4,
 "nbformat_minor": 4
}
