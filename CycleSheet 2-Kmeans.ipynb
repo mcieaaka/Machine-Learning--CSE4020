{
 "cells": [
  {
   "cell_type": "markdown",
   "metadata": {},
   "source": [
    "BEFORE HANDLING OUTLIERS"
   ]
  },
  {
   "cell_type": "code",
   "execution_count": 1,
   "metadata": {},
   "outputs": [],
   "source": [
    "import numpy as np\n",
    "import pandas as pd\n",
    "import seaborn as sns\n",
    "import matplotlib.pyplot as plt\n",
    "from sklearn.metrics import silhouette_score\n",
    "from sklearn.cluster import KMeans\n",
    "from sklearn.impute import SimpleImputer"
   ]
  },
  {
   "cell_type": "code",
   "execution_count": 24,
   "metadata": {},
   "outputs": [
    {
     "data": {
      "text/plain": [
       "0.9085596637047465"
      ]
     },
     "execution_count": 24,
     "metadata": {},
     "output_type": "execute_result"
    }
   ],
   "source": [
    "x = np.loadtxt(\"./MLdata2.txt\")\n",
    "kmeansmodel = KMeans(n_clusters = 3, random_state = 1).fit(x)\n",
    "labels = kmeansmodel.labels_\n",
    "silhouette_score(x, labels, metric = 'euclidean')"
   ]
  },
  {
   "cell_type": "markdown",
   "metadata": {},
   "source": [
    "IQR FOR OUTLIERS"
   ]
  },
  {
   "cell_type": "code",
   "execution_count": 28,
   "metadata": {},
   "outputs": [
    {
     "data": {
      "text/plain": [
       "<matplotlib.axes._subplots.AxesSubplot at 0x1c004013e48>"
      ]
     },
     "execution_count": 28,
     "metadata": {},
     "output_type": "execute_result"
    },
    {
     "data": {
      "image/png": "[encoded data removed]",
      "text/plain": [
       "<Figure size 432x288 with 1 Axes>"
      ]
     },
     "metadata": {
      "needs_background": "light"
     },
     "output_type": "display_data"
    }
   ],
   "source": [
    "# x = np.loadtxt('./MLdata2.txt')\n",
    "# arr = []\n",
    "# for i in range (1,20): \n",
    "#     kmodel = KMeans (n_clusters =i)\n",
    "#     kmodel.fit(x)\n",
    "#     arr.append(kmodel.inertia_)\n",
    "\n",
    "# plt.figure(figsize=(12,12))\n",
    "# plt.plot(np.arange (1,20,1), arr)\n",
    "# df=df.dropna()\n",
    "\n",
    "# IQR :\n",
    "df = pd.DataFrame (x, columns=['a', 'b', 'c','d'])\n",
    "Q1= df.quantile(0.25)\n",
    "Q3= df.quantile(0.75)\n",
    "IQR=Q3-Q1\n",
    "df = df [(df > Q1-1.5*IQR) & (df<Q3+1.5*IQR)]\n",
    "df=df.dropna()\n",
    "df.isnull().sum()\n",
    "numArr =df.values\n",
    "\n",
    "# scorel1 = silhouette_score(numArr, kmodel.labels_, metric = 'euclidean')\n",
    "arr=[]\n",
    "for i in range (1,20):\n",
    "    km = KMeans(n_clusters=i)\n",
    "    km.fit(numArr)\n",
    "    arr.append(km.inertia_) \n",
    "sns.boxplot(x)\n",
    "# plt.plot(range (1,20), arr)\n",
    "# score2 = silhouette_score(x,km.labels,metric='euclidean')\n"
   ]
  },
  {
   "cell_type": "code",
   "execution_count": 22,
   "metadata": {},
   "outputs": [
    {
     "name": "stdout",
     "output_type": "stream",
     "text": [
      "0.9435596634040105\n"
     ]
    }
   ],
   "source": [
    "print(\"0.9435596634040105\")"
   ]
  },
  {
   "cell_type": "code",
   "execution_count": 27,
   "metadata": {},
   "outputs": [
    {
     "data": {
      "text/plain": [
       "(0   -5.239452\n",
       " 1   -6.112325\n",
       " 2   -9.244682\n",
       " 3   -1.070680\n",
       " Name: 0.25, dtype: float64,\n",
       " 0    5.122974\n",
       " 1    7.138566\n",
       " 2   -2.625240\n",
       " 3    8.397766\n",
       " Name: 0.75, dtype: float64)"
      ]
     },
     "execution_count": 27,
     "metadata": {},
     "output_type": "execute_result"
    }
   ],
   "source": [
    "#ROUGH\n",
    "x = np.loadtxt(\"./MLdata2.txt\")\n",
    "x= pd.DataFrame(x)\n",
    "Q1 = x.quantile(.25)\n",
    "Q3 = x.quantile(.75)\n",
    "Q1,Q3"
   ]
  },
  {
   "cell_type": "code",
   "execution_count": 32,
   "metadata": {},
   "outputs": [
    {
     "data": {
      "text/plain": [
       "<matplotlib.axes._subplots.AxesSubplot at 0x1eb41fc7d88>"
      ]
     },
     "execution_count": 32,
     "metadata": {},
     "output_type": "execute_result"
    },
    {
     "data": {
      "image/png": "[encoded data removed]",
      "text/plain": [
       "<Figure size 432x288 with 1 Axes>"
      ]
     },
     "metadata": {
      "needs_background": "light"
     },
     "output_type": "display_data"
    }
   ],
   "source": [
    "IQR=Q3-Q1\n",
    "lowL=Q1-1.5*IQR\n",
    "highL = Q3-1.5*IQR\n",
    "x[(x<lowL)|(x>highL)]\n",
    "sns.boxplot(x)"
   ]
  },
  {
   "cell_type": "code",
   "execution_count": 45,
   "metadata": {},
   "outputs": [
    {
     "name": "stdout",
     "output_type": "stream",
     "text": [
      "[[-12.82957745  -6.47896718]\n",
      " [-12.82957745  -6.77083916]\n",
      " [-12.82957745  -6.77083916]\n",
      " [-12.82957745  -6.77083916]\n",
      " [-12.82957745  -6.77083916]\n",
      " [-12.82957745  -6.77083916]\n",
      " [-12.82957745  -6.77083916]\n",
      " [-12.82957745  -6.77083916]\n",
      " [-12.82957745  -6.77083916]\n",
      " [-12.82957745  -6.77083916]\n",
      " [-12.82957745  -6.77083916]\n",
      " [-12.82957745  -7.15914075]\n",
      " [-12.82957745  -6.77083916]\n",
      " [-12.82957745  -7.22916417]\n",
      " [-12.82957745  -6.77083916]\n",
      " [-12.82957745  -6.3193174 ]\n",
      " [-12.82957745  -6.77083916]\n",
      " [-12.82957745  -6.77083916]\n",
      " [-12.82957745  -6.77083916]\n",
      " [-12.82957745  -6.77083916]\n",
      " [-12.82957745  -6.77083916]\n",
      " [-12.82957745  -6.77083916]\n",
      " [-12.82957745  -6.77083916]\n",
      " [-12.82957745  -6.77083916]\n",
      " [-12.82957745  -6.77083916]\n",
      " [-12.82957745  -6.77083916]\n",
      " [-12.82957745  -6.77083916]\n",
      " [-12.82957745  -6.77083916]\n",
      " [-12.82957745  -6.77083916]\n",
      " [-12.82957745  -6.77083916]\n",
      " [-12.82957745  -6.77083916]\n",
      " [-12.82957745  -6.77083916]\n",
      " [-12.82957745  -6.77083916]\n",
      " [-12.82957745  -6.77083916]\n",
      " [-12.82957745  -6.77083916]\n",
      " [-12.82957745  -7.45655189]\n",
      " [-12.82957745  -7.09925737]\n",
      " [-12.82957745  -6.77083916]\n",
      " [-12.82957745  -6.77083916]\n",
      " [-12.82957745  -6.77083916]\n",
      " [-12.82957745  -6.77083916]\n",
      " [-12.82957745  -6.77083916]\n",
      " [-12.82957745  -6.83885298]\n",
      " [-12.82957745  -6.77083916]\n",
      " [-12.82957745  -6.77083916]\n",
      " [-12.82957745  -6.89563436]\n",
      " [-12.82957745  -6.77083916]\n",
      " [-12.82957745  -6.77083916]\n",
      " [-12.82957745  -6.77083916]\n",
      " [-12.82957745  -6.77083916]\n",
      " [-12.82957745  -6.77083916]\n",
      " [-12.82957745  -6.77083916]\n",
      " [-12.82957745  -6.77083916]\n",
      " [-12.82957745  -6.85766482]\n",
      " [-12.82957745  -5.93019808]\n",
      " [-12.82957745  -6.77083916]\n",
      " [-12.82957745  -6.77083916]\n",
      " [-12.82957745  -6.77083916]\n",
      " [-12.82957745  -6.77083916]\n",
      " [-12.82957745  -7.73937358]\n",
      " [-12.82957745  -6.77083916]\n",
      " [-12.82957745  -6.77083916]\n",
      " [-12.82957745  -6.77083916]\n",
      " [-12.82957745  -6.77083916]\n",
      " [-12.82957745  -7.33443917]\n",
      " [-12.82957745  -6.77083916]\n",
      " [-12.82957745  -6.80108546]\n",
      " [-12.82957745  -6.77083916]\n",
      " [-12.82957745  -6.77083916]\n",
      " [-12.82957745  -6.77083916]\n",
      " [-12.82957745  -6.46205286]\n",
      " [-12.82957745  -6.77083916]\n",
      " [-12.82957745  -5.83391151]\n",
      " [-12.82957745  -6.31090596]\n",
      " [-12.82957745  -6.77083916]\n",
      " [-12.82957745  -6.77083916]\n",
      " [-12.82957745  -6.77083916]\n",
      " [-12.82957745  -6.77083916]\n",
      " [-12.82957745  -6.77083916]\n",
      " [-12.82957745  -6.77083916]\n",
      " [-12.82957745  -6.77083916]\n",
      " [-12.82957745  -6.77083916]\n",
      " [-12.82957745  -6.77083916]\n",
      " [-12.82957745  -6.77083916]\n",
      " [-12.82957745  -6.77083916]\n",
      " [-12.82957745  -6.77083916]\n",
      " [-12.82957745  -6.28492921]\n",
      " [-12.82957745  -6.77083916]\n",
      " [-12.82957745  -6.77083916]\n",
      " [-12.82957745  -6.77083916]\n",
      " [-12.82957745  -6.77083916]\n",
      " [-12.82957745  -6.77083916]\n",
      " [-12.82957745  -6.47428929]\n",
      " [-12.82957745  -6.77083916]\n",
      " [-12.82957745  -6.77083916]\n",
      " [-12.82957745  -6.77083916]\n",
      " [-12.82957745  -6.77083916]\n",
      " [-12.82957745  -7.14020809]\n",
      " [-12.82957745  -6.77083916]\n",
      " [-12.82957745  -6.77083916]]\n"
     ]
    },
    {
     "data": {
      "text/plain": [
       "<matplotlib.axes._subplots.AxesSubplot at 0x1eb42269b48>"
      ]
     },
     "execution_count": 45,
     "metadata": {},
     "output_type": "execute_result"
    },
    {
     "data": {
      "image/png": "[encoded data removed]",
      "text/plain": [
       "<Figure size 432x288 with 1 Axes>"
      ]
     },
     "metadata": {
      "needs_background": "light"
     },
     "output_type": "display_data"
    }
   ],
   "source": [
    "dfnew=x[(x>lowL)&(x<highL)]\n",
    "imputer = SimpleImputer(missing_values = np.nan, strategy = 'mean',verbose=0)\n",
    "imputer = imputer.fit(dfnew)\n",
    "dfnew = imputer.transform(dfnew)\n",
    "print(dfnew)\n",
    "# Xnew = dfnew.to_numpy()\n",
    "sns.boxplot(dfnew)"
   ]
  },
  {
   "cell_type": "code",
   "execution_count": 46,
   "metadata": {},
   "outputs": [
    {
     "data": {
      "text/plain": [
       "0.9049631564104943"
      ]
     },
     "execution_count": 46,
     "metadata": {},
     "output_type": "execute_result"
    }
   ],
   "source": [
    "kmeansmodel = KMeans(n_clusters = 3, random_state = 1).fit(dfnew)\n",
    "labels = kmeansmodel.labels_\n",
    "silhouette_score(dfnew, labels, metric = 'euclidean')"
   ]
  },
  {
   "cell_type": "code",
   "execution_count": 21,
   "metadata": {},
   "outputs": [],
   "source": [
    "# Q1 = np.percentile(x,25,interpolation='midpoint')\n",
    "# Q3 = np.percentile(x,75,interpolation='midpoint')\n",
    "# IQR=Q3-Q1\n",
    "# print(IQR)\n",
    "# lowL=Q1-1.5*IQR\n",
    "# highL = Q3-1.5*IQR\n",
    "# outlier=[]\n",
    "# for i in x:\n",
    "#     if((i>highL) or (i<lowL)):\n",
    "#         outlier.append(i)\n",
    "# plt.figure(figsize=(20,6))\n",
    "# sns.boxplot(x)"
   ]
  }
 ],
 "metadata": {
  "kernelspec": {
   "display_name": "Python 3",
   "language": "python",
   "name": "python3"
  },
  "language_info": {
   "codemirror_mode": {
    "name": "ipython",
    "version": 3
   },
   "file_extension": ".py",
   "mimetype": "text/x-python",
   "name": "python",
   "nbconvert_exporter": "python",
   "pygments_lexer": "ipython3",
   "version": "3.7.6"
  }
 },
 "nbformat": 4,
 "nbformat_minor": 4
}
