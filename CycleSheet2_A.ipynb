{
 "cells": [
  {
   "cell_type": "code",
   "execution_count": 263,
   "metadata": {
    "id": "JDdGC7GzL3P8"
   },
   "outputs": [],
   "source": [
    "import numpy as np\n",
    "import matplotlib.pyplot as plt\n",
    "from sklearn.preprocessing import StandardScaler\n",
    "from sklearn.cluster import KMeans\n",
    "from sklearn.metrics import silhouette_score\n",
    "import pandas as pd"
   ]
  },
  {
   "cell_type": "code",
   "execution_count": 264,
   "metadata": {
    "id": "mLLSDQLzL3ph"
   },
   "outputs": [],
   "source": [
    "x = np.loadtxt(\"./MLdata2.txt\")"
   ]
  },
  {
   "cell_type": "code",
   "execution_count": 273,
   "metadata": {
    "colab": {
     "base_uri": "https://localhost:8080/",
     "height": 279
    },
    "id": "NXTTXzbAMvs4",
    "outputId": "28d66159-6ed8-4616-b02e-aec563a9bcfe"
   },
   "outputs": [
    {
     "data": {
      "image/png": "[encoded data removed]",
      "text/plain": [
       "<Figure size 432x288 with 1 Axes>"
      ]
     },
     "metadata": {
      "needs_background": "light"
     },
     "output_type": "display_data"
    }
   ],
   "source": [
    "n=10\n",
    "inertia=[]\n",
    "for k in range(2,n):\n",
    "  km=KMeans(n_clusters=k).fit(x)\n",
    "  inertia.append(km.inertia_)\n",
    "\n",
    "plt.plot(np.arange(2,n,1),inertia)\n",
    "plt.xlabel('no. of clusters')\n",
    "plt.show()"
   ]
  },
  {
   "cell_type": "code",
   "execution_count": 266,
   "metadata": {
    "colab": {
     "base_uri": "https://localhost:8080/"
    },
    "id": "0czSCYiSiIdi",
    "outputId": "45328a49-d01e-4008-da05-45191218d102"
   },
   "outputs": [
    {
     "name": "stdout",
     "output_type": "stream",
     "text": [
      "0.8961992416869308\n"
     ]
    }
   ],
   "source": [
    "km1=KMeans(n_clusters=6).fit(x)\n",
    "labels1=km.labels_\n",
    "score1=silhouette_score(x, labels, metric = 'euclidean')\n",
    "print(score1)"
   ]
  },
  {
   "cell_type": "code",
   "execution_count": 267,
   "metadata": {
    "id": "bG_WMXssURNO"
   },
   "outputs": [],
   "source": [
    "df=pd.DataFrame(x, columns=['a','b','c','d'])"
   ]
  },
  {
   "cell_type": "code",
   "execution_count": 268,
   "metadata": {
    "id": "HhjI34-EUYfu"
   },
   "outputs": [],
   "source": [
    "Q1=df.quantile(0.25)\n",
    "Q3=df.quantile(0.75)\n",
    "IQR=Q3-Q1"
   ]
  },
  {
   "cell_type": "code",
   "execution_count": 269,
   "metadata": {
    "id": "rID2oDALYO9y"
   },
   "outputs": [],
   "source": [
    "df=df[(df > (Q1 - 1.5 * IQR)) & (df < (Q3 + 1.5 * IQR))]\n",
    "df=df.dropna()"
   ]
  },
  {
   "cell_type": "code",
   "execution_count": 270,
   "metadata": {
    "id": "6JYpEQUKYYkS"
   },
   "outputs": [],
   "source": [
    "df=df.dropna()"
   ]
  },
  {
   "cell_type": "code",
   "execution_count": 274,
   "metadata": {
    "colab": {
     "base_uri": "https://localhost:8080/",
     "height": 279
    },
    "id": "kzHiRt7hYyi1",
    "outputId": "94d99bd7-6740-48a9-9c4a-1b8ad34f06ff"
   },
   "outputs": [
    {
     "data": {
      "image/png": "[encoded data removed]",
      "text/plain": [
       "<Figure size 432x288 with 1 Axes>"
      ]
     },
     "metadata": {
      "needs_background": "light"
     },
     "output_type": "display_data"
    }
   ],
   "source": [
    "n=10\n",
    "inertia=[]\n",
    "for k in range(2,n):\n",
    "  km2=KMeans(n_clusters=k).fit(df)\n",
    "  inertia.append(km2.inertia_)\n",
    "\n",
    "plt.plot(np.arange(2,n,1),inertia)\n",
    "plt.xlabel('no. of clusters')\n",
    "plt.show()"
   ]
  },
  {
   "cell_type": "code",
   "execution_count": 272,
   "metadata": {
    "colab": {
     "base_uri": "https://localhost:8080/"
    },
    "id": "BjKQzqhebEBp",
    "outputId": "cc2bfdfb-3840-4e52-ccc3-30dd309abf57"
   },
   "outputs": [
    {
     "name": "stdout",
     "output_type": "stream",
     "text": [
      "0.8346058346176202\n"
     ]
    }
   ],
   "source": [
    "km2=KMeans(n_clusters=4).fit(df)\n",
    "labels2=km2.labels_\n",
    "score2=silhouette_score(df, labels2, metric = 'euclidean')\n",
    "print(score2)"
   ]
  },
  {
   "cell_type": "code",
   "execution_count": 272,
   "metadata": {
    "id": "mcSNxXN9izov"
   },
   "outputs": [],
   "source": [
    "#hence after removing the Outliers the number of Optimal Clusters decreased from n=6 to n=4"
   ]
  }
 ],
 "metadata": {
  "colab": {
   "collapsed_sections": [],
   "name": "CycleSheet2-A.ipynb",
   "provenance": []
  },
  "kernelspec": {
   "display_name": "Python 3",
   "language": "python",
   "name": "python3"
  },
  "language_info": {
   "codemirror_mode": {
    "name": "ipython",
    "version": 3
   },
   "file_extension": ".py",
   "mimetype": "text/x-python",
   "name": "python",
   "nbconvert_exporter": "python",
   "pygments_lexer": "ipython3",
   "version": "3.7.6"
  }
 },
 "nbformat": 4,
 "nbformat_minor": 1
}
