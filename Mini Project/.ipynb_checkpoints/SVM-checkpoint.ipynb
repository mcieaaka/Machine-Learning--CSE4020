{
 "cells": [
  {
   "cell_type": "markdown",
   "metadata": {},
   "source": [
    "# SVM over Different datasets"
   ]
  },
  {
   "cell_type": "code",
   "execution_count": 2,
   "metadata": {},
   "outputs": [],
   "source": [
    "import pandas as pd \n",
    "import numpy as np\n",
    "import matplotlib.pyplot as plt\n",
    "from sklearn.model_selection import train_test_split\n",
    "from sklearn.datasets import make_classification\n",
    "from sklearn.metrics import classification_report,confusion_matrix\n",
    "from sklearn.preprocessing import StandardScaler\n",
    "from sklearn.svm import SVC\n"
   ]
  },
  {
   "cell_type": "code",
   "execution_count": 7,
   "metadata": {},
   "outputs": [],
   "source": [
    "def svm_classifier(Xtrain,Xtest,Ytrain,Ytest):\n",
    "    model=SVC(random_state=10,kernel='rbf')\n",
    "    model.fit(Xtrain,Ytrain)\n",
    "    Ypred = model.predict(Xtest)\n",
    "    print(classification_report(Ypred,Ytest))\n",
    "    print(confusion_matrix(Ypred,Ytest))"
   ]
  },
  {
   "cell_type": "code",
   "execution_count": 3,
   "metadata": {},
   "outputs": [
    {
     "name": "stdout",
     "output_type": "stream",
     "text": [
      "              precision    recall  f1-score   support\n",
      "\n",
      "           0       0.85      0.92      0.89        88\n",
      "           1       0.93      0.88      0.90       112\n",
      "\n",
      "    accuracy                           0.90       200\n",
      "   macro avg       0.89      0.90      0.89       200\n",
      "weighted avg       0.90      0.90      0.90       200\n",
      "\n",
      "[[81  7]\n",
      " [14 98]]\n",
      "              precision    recall  f1-score   support\n",
      "\n",
      "           0       0.98      0.92      0.95      1038\n",
      "           1       0.92      0.98      0.95       962\n",
      "\n",
      "    accuracy                           0.95      2000\n",
      "   macro avg       0.95      0.95      0.95      2000\n",
      "weighted avg       0.95      0.95      0.95      2000\n",
      "\n",
      "[[959  79]\n",
      " [ 23 939]]\n",
      "              precision    recall  f1-score   support\n",
      "\n",
      "           0       0.95      0.93      0.94     10146\n",
      "           1       0.93      0.95      0.94      9854\n",
      "\n",
      "    accuracy                           0.94     20000\n",
      "   macro avg       0.94      0.94      0.94     20000\n",
      "weighted avg       0.94      0.94      0.94     20000\n",
      "\n",
      "[[9456  690]\n",
      " [ 497 9357]]\n",
      "              precision    recall  f1-score   support\n",
      "\n",
      "           0       0.96      0.93      0.95      1025\n",
      "           1       0.93      0.96      0.95       975\n",
      "\n",
      "    accuracy                           0.95      2000\n",
      "   macro avg       0.95      0.95      0.95      2000\n",
      "weighted avg       0.95      0.95      0.95      2000\n",
      "\n",
      "[[955  70]\n",
      " [ 35 940]]\n",
      "              precision    recall  f1-score   support\n",
      "\n",
      "           0       0.94      0.91      0.93      1063\n",
      "           1       0.91      0.94      0.92       937\n",
      "\n",
      "    accuracy                           0.93      2000\n",
      "   macro avg       0.93      0.93      0.93      2000\n",
      "weighted avg       0.93      0.93      0.93      2000\n",
      "\n",
      "[[972  91]\n",
      " [ 57 880]]\n",
      "              precision    recall  f1-score   support\n",
      "\n",
      "           0       0.93      0.88      0.90      1034\n",
      "           1       0.88      0.93      0.90       966\n",
      "\n",
      "    accuracy                           0.90      2000\n",
      "   macro avg       0.90      0.90      0.90      2000\n",
      "weighted avg       0.90      0.90      0.90      2000\n",
      "\n",
      "[[907 127]\n",
      " [ 69 897]]\n"
     ]
    }
   ],
   "source": [
    "X1,y1 = make_classification(n_samples=1000,n_features=5,n_informative=2,n_redundant=1,random_state=1)\n",
    "X2,y2 = make_classification(n_samples=10000,n_features=5,n_informative=2,n_redundant=1,random_state=1)\n",
    "X3,y3 = make_classification(n_samples=100000,n_features=5,n_informative=2,n_redundant=1,random_state=1)\n",
    "X4,y4 = make_classification(n_samples=10000,n_features=10,n_informative=2,n_redundant=1,random_state=1)\n",
    "X5,y5 = make_classification(n_samples=10000,n_features=50,n_informative=2,n_redundant=1,random_state=1)\n",
    "X6,y6 = make_classification(n_samples=10000,n_features=100,n_informative=2,n_redundant=1,random_state=1)\n",
    "Datasets=[[X1,y1,\"Dataset 1\"],\n",
    "         [X2,y2,\"Dataset 2\"],\n",
    "         [X3,y3,\"Dataset 3\"],\n",
    "         [X4,y4,\"Dataset 4\"],\n",
    "         [X5,y5,\"Dataset 5\"],\n",
    "         [X6,y6,\"Dataset 6\"]]\n",
    "for r in Datasets:\n",
    "    Xtrain,Xtest,Ytrain,Ytest=train_test_split(r[0],r[1],test_size=0.2)\n",
    "    svm_classifier(Xtrain,Xtest,Ytrain,Ytest)"
   ]
  },
  {
   "cell_type": "markdown",
   "metadata": {},
   "source": [
    "# Feature Extraction: PCA"
   ]
  },
  {
   "cell_type": "code",
   "execution_count": 5,
   "metadata": {},
   "outputs": [
    {
     "name": "stdout",
     "output_type": "stream",
     "text": [
      "---------------BEFORE PCA-------------\n",
      "              precision    recall  f1-score   support\n",
      "\n",
      "           0       0.91      0.87      0.89      1031\n",
      "           1       0.87      0.91      0.89       969\n",
      "\n",
      "    accuracy                           0.89      2000\n",
      "   macro avg       0.89      0.89      0.89      2000\n",
      "weighted avg       0.89      0.89      0.89      2000\n",
      "\n",
      "[[900 131]\n",
      " [ 87 882]]\n"
     ]
    }
   ],
   "source": [
    "X,y = make_classification(n_samples=10000,n_features=100,n_informative=2,n_redundant=1,random_state=1)\n",
    "sc=StandardScaler()\n",
    "Xtrain,Xtest,Ytrain,Ytest=train_test_split(X,y,test_size=0.2)\n",
    "Xtrain=sc.fit_transform(Xtrain)\n",
    "Xtest=sc.transform(Xtest)\n",
    "print(\"---------------BEFORE PCA-------------\")\n",
    "svm_classifier(Xtrain,Xtest,Ytrain,Ytest)"
   ]
  },
  {
   "cell_type": "code",
   "execution_count": 8,
   "metadata": {},
   "outputs": [
    {
     "name": "stdout",
     "output_type": "stream",
     "text": [
      "---------------AFTER PCA-------------\n",
      "              precision    recall  f1-score   support\n",
      "\n",
      "           0       0.98      0.94      0.96      1045\n",
      "           1       0.93      0.97      0.95       955\n",
      "\n",
      "    accuracy                           0.95      2000\n",
      "   macro avg       0.95      0.95      0.95      2000\n",
      "weighted avg       0.95      0.95      0.95      2000\n",
      "\n",
      "[[978  67]\n",
      " [ 25 930]]\n"
     ]
    }
   ],
   "source": [
    "from sklearn.decomposition import PCA\n",
    "from sklearn.preprocessing import MinMaxScaler\n",
    "scaler = MinMaxScaler()\n",
    "Xscaled = scaler.fit_transform(X)\n",
    "Xtrain,Xtest,Ytrain,Ytest=train_test_split(Xscaled,y,test_size=0.2)\n",
    "pca = PCA(n_components = 0.95)\n",
    "Xtrain = pca.fit_transform(Xtrain)\n",
    "Xtest = pca.transform(Xtest)\n",
    "print(\"---------------AFTER PCA-------------\")\n",
    "svm_classifier(Xtrain,Xtest,Ytrain,Ytest)"
   ]
  },
  {
   "cell_type": "code",
   "execution_count": 17,
   "metadata": {},
   "outputs": [
    {
     "data": {
      "image/png": "[encoded data removed]",
      "text/plain": [
       "<Figure size 864x432 with 1 Axes>"
      ]
     },
     "metadata": {
      "needs_background": "light"
     },
     "output_type": "display_data"
    }
   ],
   "source": [
    "pca = PCA().fit(Xscaled)\n",
    "\n",
    "plt.rcParams[\"figure.figsize\"] = (12,6)\n",
    "\n",
    "fig, ax = plt.subplots()\n",
    "xi = np.arange(1, 100, step=10)\n",
    "y = np.cumsum(pca.explained_variance_ratio_)\n",
    "\n",
    "plt.ylim(0.0,1.1)\n",
    "plt.plot(xi, y, marker='o', linestyle='--', color='b')\n",
    "\n",
    "plt.xlabel('Number of Components')\n",
    "plt.xticks(np.arange(0, 100, step=10)) \n",
    "plt.ylabel('Cumulative variance (%)')\n",
    "plt.title('The number of components needed to explain variance')\n",
    "\n",
    "plt.axhline(y=0.95, color='r', linestyle='-')\n",
    "plt.text(0.5, 0.85, '95% cut-off threshold', color = 'red', fontsize=16)\n",
    "\n",
    "ax.grid(axis='x')\n",
    "plt.show()"
   ]
  },
  {
   "cell_type": "markdown",
   "metadata": {},
   "source": [
    "# 10 Fold Cross Validation"
   ]
  },
  {
   "cell_type": "code",
   "execution_count": 14,
   "metadata": {},
   "outputs": [
    {
     "name": "stdout",
     "output_type": "stream",
     "text": [
      "              precision    recall  f1-score   support\n",
      "\n",
      "           0       0.97      0.92      0.95      1034\n",
      "           1       0.92      0.97      0.94       966\n",
      "\n",
      "    accuracy                           0.94      2000\n",
      "   macro avg       0.94      0.95      0.94      2000\n",
      "weighted avg       0.95      0.94      0.94      2000\n",
      "\n",
      "[[956  78]\n",
      " [ 33 933]]\n"
     ]
    },
    {
     "name": "stderr",
     "output_type": "stream",
     "text": [
      "[Parallel(n_jobs=1)]: Using backend SequentialBackend with 1 concurrent workers.\n"
     ]
    },
    {
     "name": "stdout",
     "output_type": "stream",
     "text": [
      "Accuracy: 94.64 %\n",
      "Standard Deviation: 0.54 %\n"
     ]
    },
    {
     "name": "stderr",
     "output_type": "stream",
     "text": [
      "[Parallel(n_jobs=1)]: Done  10 out of  10 | elapsed:    4.1s finished\n"
     ]
    }
   ],
   "source": [
    "X,y = make_classification(n_samples=10000,n_features=10,n_informative=2,n_redundant=1,random_state=1)\n",
    "sc=StandardScaler()\n",
    "Xtrain,Xtest,Ytrain,Ytest=train_test_split(X,y,test_size=0.2)\n",
    "Xtrain=sc.fit_transform(Xtrain)\n",
    "Xtest=sc.transform(Xtest)\n",
    "\n",
    "svm_classifier(Xtrain,Xtest,Ytrain,Ytest)\n",
    "\n",
    "model=SVC(random_state=10,kernel='rbf')\n",
    "from sklearn.model_selection import cross_val_score\n",
    "accuracies = cross_val_score(estimator = model, X = Xtrain, y = Ytrain, cv = 10,verbose=1)\n",
    "print(\"Accuracy: {:.2f} %\".format(accuracies.mean()*100))\n",
    "print(\"Standard Deviation: {:.2f} %\".format(accuracies.std()*100))"
   ]
  },
  {
   "cell_type": "markdown",
   "metadata": {},
   "source": [
    "# Grid Search"
   ]
  },
  {
   "cell_type": "code",
   "execution_count": null,
   "metadata": {},
   "outputs": [],
   "source": []
  },
  {
   "cell_type": "code",
   "execution_count": 3,
   "metadata": {},
   "outputs": [
    {
     "name": "stdout",
     "output_type": "stream",
     "text": [
      "[[1181   47]\n",
      " [  90 1182]]\n",
      "              precision    recall  f1-score   support\n",
      "\n",
      "           0       0.93      0.96      0.95      1228\n",
      "           1       0.96      0.93      0.95      1272\n",
      "\n",
      "    accuracy                           0.95      2500\n",
      "   macro avg       0.95      0.95      0.95      2500\n",
      "weighted avg       0.95      0.95      0.95      2500\n",
      "\n",
      "Best Accuracy: 94.45 %\n",
      "Best Parameters: {'C': 1, 'gamma': 0.1, 'kernel': 'rbf'}\n"
     ]
    }
   ],
   "source": [
    "X,y = make_classification(n_samples=10000,n_features=10,n_informative=2,n_redundant=1,random_state=1)\n",
    "X_train, X_test, y_train, y_test = train_test_split(X, y, test_size = 0.25, random_state = 0)\n",
    "sc = StandardScaler()\n",
    "X_train = sc.fit_transform(X_train)\n",
    "X_test = sc.transform(X_test)\n",
    "\n",
    "classifier = SVC(kernel = 'rbf', random_state = 0)\n",
    "classifier.fit(X_train, y_train)\n",
    "\n",
    "y_pred = classifier.predict(X_test)\n",
    "cm = confusion_matrix(y_test, y_pred)\n",
    "print(cm)\n",
    "print(classification_report(y_test,y_pred))\n",
    "\n",
    "from sklearn.model_selection import GridSearchCV\n",
    "parameters = [{'C': [0.25, 0.5, 0.75, 1], 'kernel': ['linear']},\n",
    "              {'C': [0.25, 0.5, 0.75, 1], 'kernel': ['rbf'], 'gamma': [0.1, 0.2, 0.3, 0.4, 0.5, 0.6, 0.7, 0.8, 0.9]}]\n",
    "grid_search = GridSearchCV(estimator = classifier,\n",
    "                           param_grid = parameters,\n",
    "                           scoring = 'accuracy',\n",
    "                           cv = 10,\n",
    "                           n_jobs = -1)\n",
    "grid_search.fit(X_train, y_train)\n",
    "best_accuracy = grid_search.best_score_\n",
    "best_parameters = grid_search.best_params_\n",
    "print(\"Best Accuracy: {:.2f} %\".format(best_accuracy*100))\n",
    "print(\"Best Parameters:\", best_parameters)"
   ]
  },
  {
   "cell_type": "code",
   "execution_count": null,
   "metadata": {},
   "outputs": [],
   "source": []
  }
 ],
 "metadata": {
  "kernelspec": {
   "display_name": "Python 3",
   "language": "python",
   "name": "python3"
  },
  "language_info": {
   "codemirror_mode": {
    "name": "ipython",
    "version": 3
   },
   "file_extension": ".py",
   "mimetype": "text/x-python",
   "name": "python",
   "nbconvert_exporter": "python",
   "pygments_lexer": "ipython3",
   "version": "3.7.6"
  }
 },
 "nbformat": 4,
 "nbformat_minor": 4
}
