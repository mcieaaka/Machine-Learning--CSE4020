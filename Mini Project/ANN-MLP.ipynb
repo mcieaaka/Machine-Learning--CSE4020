{
 "cells": [
  {
   "cell_type": "code",
   "execution_count": null,
   "metadata": {},
   "outputs": [],
   "source": [
    "Datasets=[[X1,y1,\"Dataset 1\"],\n",
    "         [X2,y2,\"Dataset 2\"],\n",
    "         [X3,y3,\"Dataset 3\"],\n",
    "         [X4,y4,\"Dataset 4\"],\n",
    "         [X5,y5,\"Dataset 5\"],\n",
    "         [X6,y6,\"Dataset 6\"]]\n",
    "for r in Datasets:\n",
    "    Xtrain,Xtest,Ytrain,Ytest=train_test_split(r[0],r[1],test_size=0.2)\n",
    "    mymodel = Sequential()\n",
    "    mymodel.add(Dense(2,activation='relu',input_dim=5))\n",
    "    mymodel.add(Dense(1,activation='sigmoid'))\n",
    "    mymodel.compile(loss='binary_crossentropy',optimizer='ADAM',metrics=['accuracy'])\n",
    "    mymodel.fit(Xtrain,Ytrain,epochs=20,batch_size=2,verbose=0)\n",
    "    Ypred = mymodel.predict(Xtest)\n",
    "    YpredF=np.zeros(len(Ytest))\n",
    "    #0.5 Threshold value\n",
    "    for i in range (len(Ytest)):\n",
    "        if(Ypred[i]>=0.5):\n",
    "            YpredF[i]=1\n",
    "        else:\n",
    "            continue\n",
    "    print(r[2])\n",
    "    print(confusion_matrix(Ytest,YpredF))\n",
    "    print(classification_report(Ytest,YpredF))\n",
    "    print(\"\\n=====================================================================\")"
   ]
  }
 ],
 "metadata": {
  "kernelspec": {
   "display_name": "Python 3",
   "language": "python",
   "name": "python3"
  },
  "language_info": {
   "codemirror_mode": {
    "name": "ipython",
    "version": 3
   },
   "file_extension": ".py",
   "mimetype": "text/x-python",
   "name": "python",
   "nbconvert_exporter": "python",
   "pygments_lexer": "ipython3",
   "version": "3.7.6"
  }
 },
 "nbformat": 4,
 "nbformat_minor": 4
}
