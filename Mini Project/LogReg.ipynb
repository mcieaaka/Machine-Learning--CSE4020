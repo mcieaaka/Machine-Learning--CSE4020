{
 "cells": [
  {
   "cell_type": "code",
   "execution_count": null,
   "metadata": {},
   "outputs": [],
   "source": [
    "Datasets=[[X1,y1],\n",
    "         [X2,y2],\n",
    "         [X3,y3],\n",
    "         [X4,y4],\n",
    "         [X5,y5],\n",
    "         [X6,y6],\n",
    "         [X7,y7]]\n",
    "for r in Datasets:\n",
    "    Xtrain,Xtest,Ytrain,Ytest=train_test_split(r[0],r[1,test_size=0.2)\n",
    "    logreg = LogisticRegression(C=1.5,solver=\"lbfgs\")\n",
    "    logreg.fit(Xtrain,Ytrain)\n",
    "    Ypred = logreg.predict(Xtest)\n",
    "    print(confusion_matrix(Ytest,Ypred))\n",
    "    print(classification_report(Ytest,Ypred))\n",
    "    print(\"\\n=======================================\")"
   ]
  }
 ],
 "metadata": {
  "kernelspec": {
   "display_name": "Python 3",
   "language": "python",
   "name": "python3"
  },
  "language_info": {
   "codemirror_mode": {
    "name": "ipython",
    "version": 3
   },
   "file_extension": ".py",
   "mimetype": "text/x-python",
   "name": "python",
   "nbconvert_exporter": "python",
   "pygments_lexer": "ipython3",
   "version": "3.7.6"
  }
 },
 "nbformat": 4,
 "nbformat_minor": 4
}
