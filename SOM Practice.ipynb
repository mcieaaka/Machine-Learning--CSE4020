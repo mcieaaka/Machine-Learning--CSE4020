{
 "cells": [
  {
   "cell_type": "code",
   "execution_count": 29,
   "metadata": {
    "scrolled": true
   },
   "outputs": [
    {
     "name": "stdout",
     "output_type": "stream",
     "text": [
      "[[0.2  0.9 ]\n",
      " [0.6  0.7 ]\n",
      " [0.5  0.35]\n",
      " [0.9  0.15]]\n",
      "[[0.1  0.9 ]\n",
      " [0.3  0.7 ]\n",
      " [0.25 0.35]\n",
      " [0.95 0.15]]\n",
      "[[0.1   0.95 ]\n",
      " [0.3   0.35 ]\n",
      " [0.25  0.175]\n",
      " [0.95  0.075]]\n",
      "[[0.05  0.95 ]\n",
      " [0.15  0.35 ]\n",
      " [0.625 0.175]\n",
      " [0.975 0.075]]\n"
     ]
    }
   ],
   "source": [
    "import numpy as np\n",
    "import math\n",
    "X= np.array([[1,1,0,0],\n",
    "           [0,0,0,1],\n",
    "           [1,0,0,0],\n",
    "           [0,0,1,1]])\n",
    "\n",
    "w=np.array([[0.2,0.8],\n",
    "          [0.6,0.4],\n",
    "          [0.5,0.7],\n",
    "          [0.9,0.3]])\n",
    "alpha = 0.5\n",
    "d=[0,0]\n",
    "for r in X:\n",
    "    for i in range (w.shape[1]):\n",
    "        d[i]=(r[0]-w[0][i])**2 + (r[1]-w[1][i])**2 + (r[2]-w[2][i])**2 + (r[3]-w[3][i])**2\n",
    "    \n",
    "    if(d[0]<d[1]):\n",
    "        w[0][0]=w[0][0]+alpha*(r[0]-w[0][0])\n",
    "        w[1][0]=w[1][0]+alpha*(r[1]-w[1][0])        \n",
    "        w[2][0]=w[2][0]+alpha*(r[2]-w[2][0])        \n",
    "        w[3][0]=w[3][0]+alpha*(r[3]-w[3][0])  \n",
    "    else:\n",
    "        w[0][1]=w[0][1]+alpha*(r[0]-w[0][1])\n",
    "        w[1][1]=w[1][1]+alpha*(r[1]-w[1][1])        \n",
    "        w[2][1]=w[2][1]+alpha*(r[2]-w[2][1])        \n",
    "        w[3][1]=w[3][1]+alpha*(r[3]-w[3][1]) \n",
    "        \n",
    "    print(w)\n"
   ]
  },
  {
   "cell_type": "code",
   "execution_count": null,
   "metadata": {},
   "outputs": [],
   "source": []
  }
 ],
 "metadata": {
  "kernelspec": {
   "display_name": "Python 3",
   "language": "python",
   "name": "python3"
  },
  "language_info": {
   "codemirror_mode": {
    "name": "ipython",
    "version": 3
   },
   "file_extension": ".py",
   "mimetype": "text/x-python",
   "name": "python",
   "nbconvert_exporter": "python",
   "pygments_lexer": "ipython3",
   "version": "3.7.6"
  }
 },
 "nbformat": 4,
 "nbformat_minor": 4
}
